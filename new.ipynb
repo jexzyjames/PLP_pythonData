import pandas as pd
import matplotlib.pyplot as plt
import seaborn as sns
from sklearn.datasets import load_iris
import numpy as np
import os

# --- Task 1: Load and Explore the Dataset ---

print("--- Task 1: Load and Explore the Dataset ---")

# Option 1: Load Iris dataset directly from sklearn (recommended for this assignment)
try:
    iris = load_iris()
    # Convert to pandas DataFrame
    df = pd.DataFrame(data=iris.data, columns=iris.feature_names)
    df['species'] = iris.target_names[iris.target]
    print("\nDataset loaded successfully from sklearn.datasets.load_iris().")

except Exception as e:
    print(f"Error loading Iris dataset from sklearn: {e}")
    print("Attempting to load from a mock CSV file instead...")

    # Option 2: Fallback to a mock CSV if sklearn fails or for demonstration
    # This part demonstrates how you would handle CSV loading and potential FileNotFoundError
    csv_file_path = 'iris_mock_data.csv'
    if not os.path.exists(csv_file_path):
        # Create a simple mock CSV file for demonstration if it doesn't exist
        mock_data = {
            'sepal length (cm)': [5.1, 4.9, 4.7, 5.4, 5.0, 5.9, 6.7, 6.3, 6.5, 7.0],
            'sepal width (cm)': [3.5, 3.0, 3.2, 3.9, 3.6, 3.0, 3.3, 3.3, 3.0, 3.2],
            'petal length (cm)': [1.4, 1.4, 1.3, 1.7, 1.4, 4.2, 5.7, 6.0, 5.8, 4.7],
            'petal width (cm)': [0.2, 0.2, 0.2, 0.4, 0.2, 1.5, 2.5, 2.5, 2.2, 1.4],
            'species': ['setosa', 'setosa', 'setosa', 'setosa', 'setosa', 'versicolor', 'virginica', 'virginica', 'virginica', 'versicolor']
        }
        df = pd.DataFrame(mock_data)
        df.to_csv(csv_file_path, index=False)
        print(f"Mock CSV '{csv_file_path}' created.")

    try:
        df = pd.read_csv(csv_file_path)
        print(f"Dataset loaded successfully from '{csv_file_path}'.")
    except FileNotFoundError:
        print(f"Error: The file '{csv_file_path}' was not found.")
        print("Please ensure the dataset file is in the correct directory or adjust the path.")
        exit() # Exit if dataset cannot be loaded
    except pd.errors.EmptyDataError:
        print(f"Error: The file '{csv_file_path}' is empty.")
        exit()
    except Exception as e:
        print(f"An unexpected error occurred while reading the CSV: {e}")
        exit()

# Display the first few rows
print("\nFirst 5 rows of the dataset:")
print(df.head())

# Explore the structure of the dataset
print("\nDataset Information (Data Types and Non-Null Counts):")
df.info()

# Check for missing values
print("\nMissing values before cleaning:")
print(df.isnull().sum())

# Clean the dataset by either filling or dropping any missing values
# The Iris dataset is typically very clean. For demonstration, let's
# intentionally introduce a missing value and then handle it.
print("\nDemonstrating missing value handling:")
# Introduce a NaN value for demonstration
df.loc[5, 'sepal length (cm)'] = np.nan
print("\nMissing values after introducing one NaN:")
print(df.isnull().sum())

# Option 1: Drop rows with any missing values
# df_cleaned = df.dropna()
# print("\nDataset shape after dropping missing values:", df_cleaned.shape)

# Option 2: Fill missing values (e.g., with the mean of the column)
# For simplicity and to keep the original data structure for further analysis,
# we'll fill the introduced NaN with the mean of its column.
mean_sepal_length = df['sepal length (cm)'].mean()
df['sepal length (cm)'].fillna(mean_sepal_length, inplace=True)
print("\nMissing values after filling with mean:")
print(df.isnull().sum())
print(f"Missing 'sepal length (cm)' value filled with mean: {mean_sepal_length:.2f}")


# --- Task 2: Basic Data Analysis ---

print("\n--- Task 2: Basic Data Analysis ---")

# Compute the basic statistics of the numerical columns
print("\nBasic statistics of numerical columns:")
print(df.describe())

# Perform groupings on a categorical column ('species')
# and compute the mean of numerical columns for each group.
print("\nMean of numerical features grouped by 'species':")
grouped_means = df.groupby('species')[iris.feature_names].mean()
print(grouped_means)

# Identify any patterns or interesting findings from your analysis.
print("\n--- Findings and Observations from Basic Data Analysis ---")
print("1. Statistical Summary:")
print("   - 'sepal length (cm)' ranges from about 4.3 to 7.9, with a mean around 5.8.")
print("   - 'petal length (cm)' shows a wider range (1.0 to 6.9) compared to sepal length, suggesting it might be a stronger differentiator.")
print("   - The standard deviations indicate the spread of data; 'petal length (cm)' has the largest standard deviation, implying more variability.")
print("2. Grouped Means by Species:")
print("   - **Setosa** generally has the smallest 'petal length (cm)' and 'petal width (cm)' among all species.")
print("   - **Virginica** generally has the largest 'petal length (cm)' and 'petal width (cm)'.")
print("   - **Versicolor** falls in between Setosa and Virginica for petal measurements.")
print("   - For sepal measurements, the differences are less pronounced but still visible, with Setosa having slightly smaller sepal lengths on average than Versicolor and Virginica.")
print("These patterns suggest that petal dimensions are key features for distinguishing between Iris species.")


# --- Task 3: Data Visualization ---

print("\n--- Task 3: Data Visualization ---")

# Set a style for better aesthetics
sns.set_style("whitegrid")
plt.figure(figsize=(15, 10)) # Overall figure size for multiple plots

# 1. Line chart showing trends (e.g., sepal length across samples)
# While not a true time series, this demonstrates a line chart for sequential data.
plt.subplot(2, 2, 1) # 2 rows, 2 columns, 1st subplot
plt.plot(df.index, df['sepal length (cm)'], color='skyblue', linewidth=1.5)
plt.title('Sepal Length Across Samples')
plt.xlabel('Sample Index')
plt.ylabel('Sepal Length (cm)')
plt.grid(True, linestyle='--', alpha=0.7)
print("\nGenerated: Line chart of Sepal Length Across Samples.")

# 2. Bar chart showing the comparison of a numerical value across categories
plt.subplot(2, 2, 2) # 2 rows, 2 columns, 2nd subplot
sns.barplot(x=grouped_means.index, y=grouped_means['petal length (cm)'], palette='viridis')
plt.title('Average Petal Length per Species')
plt.xlabel('Species')
plt.ylabel('Average Petal Length (cm)')
print("Generated: Bar chart of Average Petal Length per Species.")

# 3. Histogram of a numerical column to understand its distribution
plt.subplot(2, 2, 3) # 2 rows, 2 columns, 3rd subplot
sns.histplot(df['sepal length (cm)'], bins=10, kde=True, color='purple')
plt.title('Distribution of Sepal Length')
plt.xlabel('Sepal Length (cm)')
plt.ylabel('Frequency')
print("Generated: Histogram of Sepal Length Distribution.")

# 4. Scatter plot to visualize the relationship between two numerical columns
plt.subplot(2, 2, 4) # 2 rows, 2 columns, 4th subplot
sns.scatterplot(x='sepal length (cm)', y='petal length (cm)', hue='species', data=df, palette='deep', s=80, alpha=0.8)
plt.title('Sepal Length vs. Petal Length by Species')
plt.xlabel('Sepal Length (cm)')
plt.ylabel('Petal Length (cm)')
plt.legend(title='Species')
print("Generated: Scatter plot of Sepal Length vs. Petal Length by Species.")

plt.tight_layout() # Adjust subplot parameters for a tight layout
plt.show() # Display all generated plots

print("\n--- Data Analysis and Visualization Complete ---")
